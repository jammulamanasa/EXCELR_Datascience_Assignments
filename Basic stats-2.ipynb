{
 "cells": [
  {
   "cell_type": "code",
   "execution_count": 12,
   "id": "81e95c77-a189-429a-ab87-19cd5cef4c61",
   "metadata": {},
   "outputs": [],
   "source": [
    "import numpy as np\n",
    "import scipy.stats as stats"
   ]
  },
  {
   "cell_type": "code",
   "execution_count": 4,
   "id": "683171bf-f2a0-41b3-a55b-f5fe98a921b8",
   "metadata": {},
   "outputs": [],
   "source": [
    "# Data for print-head durability in millions of characters\n",
    "data = [1.13, 1.55, 1.43, 0.92, 1.25, 1.36, 1.32, 0.85, 1.07, 1.48, 1.20, 1.33, 1.18, 1.22, 1.29]"
   ]
  },
  {
   "cell_type": "code",
   "execution_count": 5,
   "id": "90b37165-70c2-4661-b6d0-6829f98fccf3",
   "metadata": {},
   "outputs": [],
   "source": [
    "# Sample size (n), sample mean, and sample standard deviation\n",
    "n = len(data)\n",
    "sample_mean = np.mean(data)\n",
    "sample_std = np.std(data, ddof=1)  # Sample standard deviation"
   ]
  },
  {
   "cell_type": "code",
   "execution_count": 6,
   "id": "44d0cb08-84dc-49b4-8277-460adbd51890",
   "metadata": {},
   "outputs": [],
   "source": [
    "# Confidence level\n",
    "confidence_level = 0.99"
   ]
  },
  {
   "cell_type": "code",
   "execution_count": 7,
   "id": "464ce911-77ba-4ebe-8a25-4be979172865",
   "metadata": {},
   "outputs": [],
   "source": [
    "# Task a: Confidence Interval using t-distribution (since we use sample standard deviation)\n",
    "t_critical = stats.t.ppf((1 + confidence_level) / 2, df=n-1)\n",
    "margin_of_error_t = t_critical * (sample_std / np.sqrt(n))"
   ]
  },
  {
   "cell_type": "code",
   "execution_count": 8,
   "id": "a7666a79-e5e9-44f5-8b30-2ba268ad5d44",
   "metadata": {},
   "outputs": [],
   "source": [
    "# Confidence Interval for mean (using t-distribution)\n",
    "ci_lower_t = sample_mean - margin_of_error_t\n",
    "ci_upper_t = sample_mean + margin_of_error_t"
   ]
  },
  {
   "cell_type": "code",
   "execution_count": 9,
   "id": "6302bf29-ec63-4c11-a0ea-8f857d585873",
   "metadata": {},
   "outputs": [],
   "source": [
    "# Task b: Confidence Interval using population standard deviation (given as 0.2 million characters)\n",
    "pop_std = 0.2\n",
    "z_critical = stats.norm.ppf((1 + confidence_level) / 2)\n",
    "margin_of_error_z = z_critical * (pop_std / np.sqrt(n))"
   ]
  },
  {
   "cell_type": "code",
   "execution_count": 10,
   "id": "f10deb9e-9d1a-4afc-82d2-699e313d1d31",
   "metadata": {},
   "outputs": [],
   "source": [
    "# Confidence Interval for mean (using z-distribution)\n",
    "ci_lower_z = sample_mean - margin_of_error_z\n",
    "ci_upper_z = sample_mean + margin_of_error_z"
   ]
  },
  {
   "cell_type": "code",
   "execution_count": 13,
   "id": "4afa1027-b936-4d67-9a7b-fd91d3597745",
   "metadata": {},
   "outputs": [
    {
     "data": {
      "text/plain": [
       "((1.090197338451367, 1.3871359948819662),\n",
       " (1.1056514133957607, 1.3716819199375725))"
      ]
     },
     "execution_count": 13,
     "metadata": {},
     "output_type": "execute_result"
    }
   ],
   "source": [
    "(ci_lower_t, ci_upper_t), (ci_lower_z, ci_upper_z)"
   ]
  },
  {
   "cell_type": "code",
   "execution_count": null,
   "id": "5818441d-9537-4646-8234-0b41265eb0f2",
   "metadata": {},
   "outputs": [],
   "source": []
  }
 ],
 "metadata": {
  "kernelspec": {
   "display_name": "Python 3 (ipykernel)",
   "language": "python",
   "name": "python3"
  },
  "language_info": {
   "codemirror_mode": {
    "name": "ipython",
    "version": 3
   },
   "file_extension": ".py",
   "mimetype": "text/x-python",
   "name": "python",
   "nbconvert_exporter": "python",
   "pygments_lexer": "ipython3",
   "version": "3.11.3"
  }
 },
 "nbformat": 4,
 "nbformat_minor": 5
}
