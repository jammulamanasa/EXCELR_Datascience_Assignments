{
 "cells": [
  {
   "cell_type": "code",
   "execution_count": 2,
   "id": "efb93009-b600-41de-a4cc-aec58c7053f6",
   "metadata": {},
   "outputs": [
    {
     "name": "stdout",
     "output_type": "stream",
     "text": [
      "<class 'pandas.core.frame.DataFrame'>\n",
      "RangeIndex: 32561 entries, 0 to 32560\n",
      "Data columns (total 15 columns):\n",
      " #   Column          Non-Null Count  Dtype \n",
      "---  ------          --------------  ----- \n",
      " 0   age             32561 non-null  int64 \n",
      " 1   workclass       32561 non-null  object\n",
      " 2   fnlwgt          32561 non-null  int64 \n",
      " 3   education       32561 non-null  object\n",
      " 4   education_num   32561 non-null  int64 \n",
      " 5   marital_status  32561 non-null  object\n",
      " 6   occupation      32561 non-null  object\n",
      " 7   relationship    32561 non-null  object\n",
      " 8   race            32561 non-null  object\n",
      " 9   sex             32561 non-null  object\n",
      " 10  capital_gain    32561 non-null  int64 \n",
      " 11  capital_loss    32561 non-null  int64 \n",
      " 12  hours_per_week  32561 non-null  int64 \n",
      " 13  native_country  32561 non-null  object\n",
      " 14  income          32561 non-null  object\n",
      "dtypes: int64(6), object(9)\n",
      "memory usage: 3.7+ MB\n",
      "None\n",
      "                age        fnlwgt  education_num  capital_gain  capital_loss  \\\n",
      "count  32561.000000  3.256100e+04   32561.000000  32561.000000  32561.000000   \n",
      "mean      38.581647  1.897784e+05      10.080679   1077.648844     87.303830   \n",
      "std       13.640433  1.055500e+05       2.572720   7385.292085    402.960219   \n",
      "min       17.000000  1.228500e+04       1.000000      0.000000      0.000000   \n",
      "25%       28.000000  1.178270e+05       9.000000      0.000000      0.000000   \n",
      "50%       37.000000  1.783560e+05      10.000000      0.000000      0.000000   \n",
      "75%       48.000000  2.370510e+05      12.000000      0.000000      0.000000   \n",
      "max       90.000000  1.484705e+06      16.000000  99999.000000   4356.000000   \n",
      "\n",
      "       hours_per_week  \n",
      "count    32561.000000  \n",
      "mean        40.437456  \n",
      "std         12.347429  \n",
      "min          1.000000  \n",
      "25%         40.000000  \n",
      "50%         40.000000  \n",
      "75%         45.000000  \n",
      "max         99.000000  \n"
     ]
    }
   ],
   "source": [
    "import pandas as pd\n",
    "import numpy as np\n",
    "from sklearn.preprocessing import StandardScaler, MinMaxScaler\n",
    "# Loading the dataset\n",
    "data = pd.read_csv('adult_with_headers.csv')\n",
    "#data exploration\n",
    "print(data.info())\n",
    "print(data.describe())\n",
    "data = data.replace('?', np.nan)\n",
    "data = data.dropna()"
   ]
  },
  {
   "cell_type": "code",
   "execution_count": 3,
   "id": "612ade00-9767-41bd-854b-e7fb56fc65a1",
   "metadata": {},
   "outputs": [],
   "source": [
    "numerical_features = ['age', 'fnlwgt', 'education_num', 'hours_per_week']\n",
    "# Standard Scaling\n",
    "scaler_standard = StandardScaler()\n",
    "data_standard_scaled = scaler_standard.fit_transform(data[numerical_features])\n",
    "# Min-Max Scaling\n",
    "scaler_minmax = MinMaxScaler()\n",
    "data_minmax_scaled = scaler_minmax.fit_transform(data[numerical_features])\n",
    "data_standard_scaled_df = pd.DataFrame(data_standard_scaled, columns=numerical_features)\n",
    "data_minmax_scaled_df = pd.DataFrame(data_minmax_scaled, columns=numerical_features)\n",
    "\n",
    "# Discussing each scaling techniques when to use :\n",
    "# - Standard Scaling: Used when data follows a normal distribution.\n",
    "# - Min-Max Scaling: Useful when the data doesn't follow a normal distribution and needs to be scaled to a fixed range, like [0, 1].\n"
   ]
  },
  {
   "cell_type": "code",
   "execution_count": 4,
   "id": "c4195517-7bf6-4cdf-b2d7-5b2135cb65ec",
   "metadata": {},
   "outputs": [
    {
     "name": "stdout",
     "output_type": "stream",
     "text": [
      "   workclass  education  marital_status  occupation   race  native_country  \\\n",
      "0          1          0               1           0  White               2   \n",
      "1          2          1               2           1  Black               1   \n",
      "2          1          2               0           2  White               2   \n",
      "3          0          0               1           0  White               0   \n",
      "\n",
      "   sex_Male  relationship_Not-in-family  \n",
      "0       1.0                         0.0  \n",
      "1       0.0                         1.0  \n",
      "2       0.0                         1.0  \n",
      "3       1.0                         0.0  \n"
     ]
    }
   ],
   "source": [
    "from sklearn.preprocessing import OneHotEncoder, LabelEncoder\n",
    "import pandas as pd\n",
    "data = pd.DataFrame({\n",
    "    'workclass': ['Private', 'Self-emp-not-inc', 'Private', 'Federal-gov'],\n",
    "    'education': ['Bachelors', 'HS-grad', 'Masters', 'Bachelors'],\n",
    "    'marital_status': ['Married-civ-spouse', 'Never-married', 'Divorced', 'Married-civ-spouse'],\n",
    "    'occupation': ['Exec-managerial', 'Handlers-cleaners', 'Prof-specialty', 'Exec-managerial'],\n",
    "    'relationship': ['Husband', 'Not-in-family', 'Not-in-family', 'Husband'],\n",
    "    'race': ['White', 'Black', 'White', 'White'],\n",
    "    'sex': ['Male', 'Female', 'Female', 'Male'],\n",
    "    'native_country': ['United-States', 'Mexico', 'United-States', 'Canada']\n",
    "})\n",
    "categorical_columns = ['workclass', 'education', 'marital_status', 'occupation', 'relationship', 'race', 'sex', 'native_country']\n",
    "# Applying One-Hot Encoding with less than 5 categories\n",
    "one_hot_columns = ['sex', 'relationship']\n",
    "one_hot_encoder = OneHotEncoder(drop='first', sparse_output=False)\n",
    "data_one_hot = pd.DataFrame(one_hot_encoder.fit_transform(data[one_hot_columns]),\n",
    "                            columns=one_hot_encoder.get_feature_names_out(one_hot_columns))\n",
    "\n",
    "# Applying Label Encoding with more than 5 categories\n",
    "label_columns = ['workclass', 'education', 'marital_status', 'occupation', 'native_country']\n",
    "label_encoder = LabelEncoder()\n",
    "\n",
    "for col in label_columns:\n",
    "    data[col] = label_encoder.fit_transform(data[col])\n",
    "# Concatenate the One-Hot Encoded columns back to the original data\n",
    "data_encoded = pd.concat([data, data_one_hot], axis=1).drop(one_hot_columns, axis=1)\n",
    "# Displaying the encoded dataset\n",
    "print(data_encoded.head())\n"
   ]
  },
  {
   "cell_type": "code",
   "execution_count": null,
   "id": "4a1ba818-2210-4723-9546-b57707d9de20",
   "metadata": {},
   "outputs": [],
   "source": [
    "Pros and Cons of One-Hot Encoding and Label Encoding:\n",
    "One-Hot Encoding:\n",
    "Pros:\n",
    "No Ordinal Relationship: One-Hot Encoding create binary columns for each category, which means there is no ordinal relationship introduced among categories\n",
    "Cons:\n",
    "High Dimensionality:It Can lead to a large increase in the number of features if the categorical variable has many unique categories, Potentially causing the \"curse of dimensionality\"\n",
    "\n",
    "\n",
    "Label Encoding:\n",
    "Pros:\n",
    "Reduced Dimensionality: It converts categories into integers, which keeps the feature set smaller, avoiding the issues of high dimensionality.\n",
    "Cons:\n",
    "Ordinal Relationship: It creates an ordinal relationship between categories that may not exist"
   ]
  },
  {
   "cell_type": "code",
   "execution_count": 5,
   "id": "2e77d90b-3520-4eef-9111-9bc115b7266f",
   "metadata": {},
   "outputs": [
    {
     "data": {
      "image/png": "[encoded data removed]",
      "text/plain": [
       "<Figure size 640x480 with 1 Axes>"
      ]
     },
     "metadata": {},
     "output_type": "display_data"
    },
    {
     "name": "stdout",
     "output_type": "stream",
     "text": [
      "   age  education  hours-per-week  fnlwgt  education_num  education_hours  \\\n",
      "0   25  Bachelors              40  123456              0                0   \n",
      "1   60    HS-grad              30  234567              1               30   \n",
      "2   35    Masters              50  345678              2              100   \n",
      "3   45  Bachelors              60  456789              0                0   \n",
      "\n",
      "   senior_citizen  fnlwgt_log  \n",
      "0               0   11.723648  \n",
      "1               1   12.365501  \n",
      "2               0   12.753266  \n",
      "3               0   13.031979  \n"
     ]
    }
   ],
   "source": [
    "import numpy as np\n",
    "import pandas as pd\n",
    "import matplotlib.pyplot as plt\n",
    "import seaborn as sns\n",
    "from sklearn.preprocessing import LabelEncoder\n",
    "data = pd.DataFrame({\n",
    "    'age': [25, 60, 35, 45],\n",
    "    'education': ['Bachelors', 'HS-grad', 'Masters', 'Bachelors'],\n",
    "    'hours-per-week': [40, 30, 50, 60],\n",
    "    'fnlwgt': [123456, 234567, 345678, 456789]\n",
    "})\n",
    "label_encoder = LabelEncoder()\n",
    "data['education_num'] = label_encoder.fit_transform(data['education'])\n",
    "\n",
    "# Feature Engineering\n",
    "data['education_hours'] = data['education_num'] * data['hours-per-week']\n",
    "data['senior_citizen'] = np.where(data['age'] >= 60, 1, 0)\n",
    "# Check for skewness\n",
    "sns.histplot(data['fnlwgt'], kde=True)\n",
    "plt.show()\n",
    "# Applying log transformation if skewed\n",
    "data['fnlwgt_log'] = np.log1p(data['fnlwgt'])\n",
    "print(data)\n"
   ]
  },
  {
   "cell_type": "code",
   "execution_count": 6,
   "id": "4076effd-6774-4c6a-b74a-fde117720634",
   "metadata": {},
   "outputs": [
    {
     "name": "stdout",
     "output_type": "stream",
     "text": [
      "   age  education_num  hours-per-week  fnlwgt\n",
      "0   25              1              40  123456\n",
      "2   35              3              50  345678\n",
      "3   45              1              60  456789\n"
     ]
    }
   ],
   "source": [
    "#Feature selection\n",
    "import pandas as pd\n",
    "import numpy as np\n",
    "from sklearn.ensemble import IsolationForest\n",
    "data = pd.DataFrame({\n",
    "    'age': [25, 60, 35, 45],\n",
    "    'education_num': [1, 2, 3, 1],\n",
    "    'hours-per-week': [40, 30, 50, 60],\n",
    "    'fnlwgt': [123456, 234567, 345678, 456789]\n",
    "})\n",
    "numerical_features = ['age', 'fnlwgt', 'education_num', 'hours-per-week']\n",
    "#Isolation Forest\n",
    "iso_forest = IsolationForest(contamination=0.05)\n",
    "outliers = iso_forest.fit_predict(data[numerical_features])\n",
    "# Remove outliers\n",
    "data = data[outliers == 1]\n",
    "# Display the cleaned dataset without outliers\n",
    "print(data)\n"
   ]
  },
  {
   "cell_type": "code",
   "execution_count": 12,
   "id": "4687f4b5-a261-4493-874a-3260dc0574a4",
   "metadata": {},
   "outputs": [],
   "source": [
    "### Discussion: Outliers can skew the data and negatively impact the performance of models by introducing noise.\n"
   ]
  },
  {
   "cell_type": "code",
   "execution_count": 14,
   "id": "1e069049-a20e-414d-9275-eb8ae76516be",
   "metadata": {},
   "outputs": [
    {
     "name": "stdout",
     "output_type": "stream",
     "text": [
      "Requirement already satisfied: ppscore in c:\\users\\jammu\\appdata\\local\\programs\\python\\python311\\lib\\site-packages (1.3.0)\n",
      "Requirement already satisfied: pandas<2.0.0,>=1.0.0 in c:\\users\\jammu\\appdata\\local\\programs\\python\\python311\\lib\\site-packages (from ppscore) (1.5.3)\n",
      "Requirement already satisfied: scikit-learn<2.0.0,>=0.20.2 in c:\\users\\jammu\\appdata\\local\\programs\\python\\python311\\lib\\site-packages (from ppscore) (1.3.2)\n",
      "Requirement already satisfied: python-dateutil>=2.8.1 in c:\\users\\jammu\\appdata\\local\\programs\\python\\python311\\lib\\site-packages (from pandas<2.0.0,>=1.0.0->ppscore) (2.8.2)\n",
      "Requirement already satisfied: pytz>=2020.1 in c:\\users\\jammu\\appdata\\local\\programs\\python\\python311\\lib\\site-packages (from pandas<2.0.0,>=1.0.0->ppscore) (2023.3.post1)\n",
      "Requirement already satisfied: numpy>=1.21.0 in c:\\users\\jammu\\appdata\\local\\programs\\python\\python311\\lib\\site-packages (from pandas<2.0.0,>=1.0.0->ppscore) (1.26.2)\n",
      "Requirement already satisfied: scipy>=1.5.0 in c:\\users\\jammu\\appdata\\local\\programs\\python\\python311\\lib\\site-packages (from scikit-learn<2.0.0,>=0.20.2->ppscore) (1.11.3)\n",
      "Requirement already satisfied: joblib>=1.1.1 in c:\\users\\jammu\\appdata\\local\\programs\\python\\python311\\lib\\site-packages (from scikit-learn<2.0.0,>=0.20.2->ppscore) (1.3.2)\n",
      "Requirement already satisfied: threadpoolctl>=2.0.0 in c:\\users\\jammu\\appdata\\local\\programs\\python\\python311\\lib\\site-packages (from scikit-learn<2.0.0,>=0.20.2->ppscore) (3.2.0)\n",
      "Requirement already satisfied: six>=1.5 in c:\\users\\jammu\\appdata\\local\\programs\\python\\python311\\lib\\site-packages (from python-dateutil>=2.8.1->pandas<2.0.0,>=1.0.0->ppscore) (1.16.0)\n"
     ]
    }
   ],
   "source": [
    "!pip install ppscore"
   ]
  },
  {
   "cell_type": "code",
   "execution_count": 18,
   "id": "e90d5b72-7bfe-4a3e-88fb-2540bd46564e",
   "metadata": {},
   "outputs": [
    {
     "name": "stderr",
     "output_type": "stream",
     "text": [
      "C:\\Users\\jammu\\AppData\\Local\\Programs\\Python\\Python311\\Lib\\site-packages\\ppscore\\calculation.py:206: FutureWarning: is_categorical_dtype is deprecated and will be removed in a future version. Use isinstance(dtype, CategoricalDtype) instead\n",
      "  or is_categorical_dtype(series)\n",
      "C:\\Users\\jammu\\AppData\\Local\\Programs\\Python\\Python311\\Lib\\site-packages\\ppscore\\calculation.py:206: FutureWarning: is_categorical_dtype is deprecated and will be removed in a future version. Use isinstance(dtype, CategoricalDtype) instead\n",
      "  or is_categorical_dtype(series)\n",
      "C:\\Users\\jammu\\AppData\\Local\\Programs\\Python\\Python311\\Lib\\site-packages\\ppscore\\calculation.py:206: FutureWarning: is_categorical_dtype is deprecated and will be removed in a future version. Use isinstance(dtype, CategoricalDtype) instead\n",
      "  or is_categorical_dtype(series)\n",
      "C:\\Users\\jammu\\AppData\\Local\\Programs\\Python\\Python311\\Lib\\site-packages\\ppscore\\calculation.py:206: FutureWarning: is_categorical_dtype is deprecated and will be removed in a future version. Use isinstance(dtype, CategoricalDtype) instead\n",
      "  or is_categorical_dtype(series)\n",
      "C:\\Users\\jammu\\AppData\\Local\\Programs\\Python\\Python311\\Lib\\site-packages\\ppscore\\calculation.py:206: FutureWarning: is_categorical_dtype is deprecated and will be removed in a future version. Use isinstance(dtype, CategoricalDtype) instead\n",
      "  or is_categorical_dtype(series)\n",
      "C:\\Users\\jammu\\AppData\\Local\\Programs\\Python\\Python311\\Lib\\site-packages\\ppscore\\calculation.py:206: FutureWarning: is_categorical_dtype is deprecated and will be removed in a future version. Use isinstance(dtype, CategoricalDtype) instead\n",
      "  or is_categorical_dtype(series)\n",
      "C:\\Users\\jammu\\AppData\\Local\\Programs\\Python\\Python311\\Lib\\site-packages\\ppscore\\calculation.py:206: FutureWarning: is_categorical_dtype is deprecated and will be removed in a future version. Use isinstance(dtype, CategoricalDtype) instead\n",
      "  or is_categorical_dtype(series)\n",
      "C:\\Users\\jammu\\AppData\\Local\\Programs\\Python\\Python311\\Lib\\site-packages\\ppscore\\calculation.py:206: FutureWarning: is_categorical_dtype is deprecated and will be removed in a future version. Use isinstance(dtype, CategoricalDtype) instead\n",
      "  or is_categorical_dtype(series)\n",
      "C:\\Users\\jammu\\AppData\\Local\\Programs\\Python\\Python311\\Lib\\site-packages\\ppscore\\calculation.py:206: FutureWarning: is_categorical_dtype is deprecated and will be removed in a future version. Use isinstance(dtype, CategoricalDtype) instead\n",
      "  or is_categorical_dtype(series)\n",
      "C:\\Users\\jammu\\AppData\\Local\\Programs\\Python\\Python311\\Lib\\site-packages\\ppscore\\calculation.py:206: FutureWarning: is_categorical_dtype is deprecated and will be removed in a future version. Use isinstance(dtype, CategoricalDtype) instead\n",
      "  or is_categorical_dtype(series)\n",
      "C:\\Users\\jammu\\AppData\\Local\\Programs\\Python\\Python311\\Lib\\site-packages\\ppscore\\calculation.py:206: FutureWarning: is_categorical_dtype is deprecated and will be removed in a future version. Use isinstance(dtype, CategoricalDtype) instead\n",
      "  or is_categorical_dtype(series)\n",
      "C:\\Users\\jammu\\AppData\\Local\\Programs\\Python\\Python311\\Lib\\site-packages\\ppscore\\calculation.py:206: FutureWarning: is_categorical_dtype is deprecated and will be removed in a future version. Use isinstance(dtype, CategoricalDtype) instead\n",
      "  or is_categorical_dtype(series)\n",
      "C:\\Users\\jammu\\AppData\\Local\\Programs\\Python\\Python311\\Lib\\site-packages\\ppscore\\calculation.py:206: FutureWarning: is_categorical_dtype is deprecated and will be removed in a future version. Use isinstance(dtype, CategoricalDtype) instead\n",
      "  or is_categorical_dtype(series)\n",
      "C:\\Users\\jammu\\AppData\\Local\\Programs\\Python\\Python311\\Lib\\site-packages\\ppscore\\calculation.py:206: FutureWarning: is_categorical_dtype is deprecated and will be removed in a future version. Use isinstance(dtype, CategoricalDtype) instead\n",
      "  or is_categorical_dtype(series)\n",
      "C:\\Users\\jammu\\AppData\\Local\\Programs\\Python\\Python311\\Lib\\site-packages\\ppscore\\calculation.py:206: FutureWarning: is_categorical_dtype is deprecated and will be removed in a future version. Use isinstance(dtype, CategoricalDtype) instead\n",
      "  or is_categorical_dtype(series)\n",
      "C:\\Users\\jammu\\AppData\\Local\\Programs\\Python\\Python311\\Lib\\site-packages\\ppscore\\calculation.py:206: FutureWarning: is_categorical_dtype is deprecated and will be removed in a future version. Use isinstance(dtype, CategoricalDtype) instead\n",
      "  or is_categorical_dtype(series)\n",
      "C:\\Users\\jammu\\AppData\\Local\\Programs\\Python\\Python311\\Lib\\site-packages\\ppscore\\calculation.py:206: FutureWarning: is_categorical_dtype is deprecated and will be removed in a future version. Use isinstance(dtype, CategoricalDtype) instead\n",
      "  or is_categorical_dtype(series)\n",
      "C:\\Users\\jammu\\AppData\\Local\\Programs\\Python\\Python311\\Lib\\site-packages\\ppscore\\calculation.py:206: FutureWarning: is_categorical_dtype is deprecated and will be removed in a future version. Use isinstance(dtype, CategoricalDtype) instead\n",
      "  or is_categorical_dtype(series)\n",
      "C:\\Users\\jammu\\AppData\\Local\\Programs\\Python\\Python311\\Lib\\site-packages\\ppscore\\calculation.py:206: FutureWarning: is_categorical_dtype is deprecated and will be removed in a future version. Use isinstance(dtype, CategoricalDtype) instead\n",
      "  or is_categorical_dtype(series)\n",
      "C:\\Users\\jammu\\AppData\\Local\\Programs\\Python\\Python311\\Lib\\site-packages\\ppscore\\calculation.py:206: FutureWarning: is_categorical_dtype is deprecated and will be removed in a future version. Use isinstance(dtype, CategoricalDtype) instead\n",
      "  or is_categorical_dtype(series)\n",
      "C:\\Users\\jammu\\AppData\\Local\\Programs\\Python\\Python311\\Lib\\site-packages\\ppscore\\calculation.py:206: FutureWarning: is_categorical_dtype is deprecated and will be removed in a future version. Use isinstance(dtype, CategoricalDtype) instead\n",
      "  or is_categorical_dtype(series)\n",
      "C:\\Users\\jammu\\AppData\\Local\\Programs\\Python\\Python311\\Lib\\site-packages\\ppscore\\calculation.py:206: FutureWarning: is_categorical_dtype is deprecated and will be removed in a future version. Use isinstance(dtype, CategoricalDtype) instead\n",
      "  or is_categorical_dtype(series)\n",
      "C:\\Users\\jammu\\AppData\\Local\\Programs\\Python\\Python311\\Lib\\site-packages\\ppscore\\calculation.py:206: FutureWarning: is_categorical_dtype is deprecated and will be removed in a future version. Use isinstance(dtype, CategoricalDtype) instead\n",
      "  or is_categorical_dtype(series)\n",
      "C:\\Users\\jammu\\AppData\\Local\\Programs\\Python\\Python311\\Lib\\site-packages\\ppscore\\calculation.py:206: FutureWarning: is_categorical_dtype is deprecated and will be removed in a future version. Use isinstance(dtype, CategoricalDtype) instead\n",
      "  or is_categorical_dtype(series)\n"
     ]
    },
    {
     "name": "stdout",
     "output_type": "stream",
     "text": [
      "Top 10 PPS Scores:\n",
      "                 x               y   ppscore\n",
      "0              age             age  1.000000\n",
      "6    education_num   education_num  1.000000\n",
      "18          fnlwgt          fnlwgt  1.000000\n",
      "12  hours-per-week  hours-per-week  1.000000\n",
      "24          income          income  1.000000\n",
      "21          income   education_num  0.333333\n",
      "15          fnlwgt             age  0.000000\n",
      "23          income          fnlwgt  0.000000\n",
      "22          income  hours-per-week  0.000000\n",
      "20          income             age  0.000000\n",
      "\n",
      "Correlation Matrix:\n",
      "                     age  education_num  hours-per-week    fnlwgt\n",
      "age             1.000000       0.145741       -0.302636  0.302636\n",
      "education_num   0.145741       1.000000       -0.134840  0.134840\n",
      "hours-per-week -0.302636      -0.134840        1.000000  0.800000\n",
      "fnlwgt          0.302636       0.134840        0.800000  1.000000\n"
     ]
    }
   ],
   "source": [
    "import pandas as pd\n",
    "import numpy as np\n",
    "import ppscore as pps\n",
    "\n",
    "\n",
    "data = pd.DataFrame({\n",
    "    'age': [25, 60, 35, 45],\n",
    "    'education_num': [1, 2, 3, 1],\n",
    "    'hours-per-week': [40, 30, 50, 60],\n",
    "    'fnlwgt': [123456, 234567, 345678, 456789],\n",
    "    'income': ['<=50K', '>50K', '>50K', '<=50K']\n",
    "})\n",
    "# Computing the PPS matrix\n",
    "pps_matrix = pps.matrix(data)\n",
    "# Displaying PPS matrix\n",
    "top_pps = pps_matrix[['x', 'y', 'ppscore']].sort_values(by='ppscore', ascending=False).head(10)\n",
    "print(\"Top 10 PPS Scores:\")\n",
    "print(top_pps)\n",
    "# Comparing with correlation matrix\n",
    "corr_matrix = data.select_dtypes(include=[np.number]).corr()\n",
    "print(\"\\nCorrelation Matrix:\")\n",
    "print(corr_matrix)"
   ]
  },
  {
   "cell_type": "code",
   "execution_count": 20,
   "id": "399789d4-187f-42d6-9d4b-3f468e69676f",
   "metadata": {},
   "outputs": [],
   "source": [
    "\n",
    "##Discussion: PPS captures non-linear relationships, while correlation measures linear relationships.PPS can uncover patterns that correlation might miss."
   ]
  },
  {
   "cell_type": "code",
   "execution_count": null,
   "id": "8f1fa8d7-bf0d-46da-8834-d08a2041affb",
   "metadata": {},
   "outputs": [],
   "source": []
  }
 ],
 "metadata": {
  "kernelspec": {
   "display_name": "Python 3 (ipykernel)",
   "language": "python",
   "name": "python3"
  },
  "language_info": {
   "codemirror_mode": {
    "name": "ipython",
    "version": 3
   },
   "file_extension": ".py",
   "mimetype": "text/x-python",
   "name": "python",
   "nbconvert_exporter": "python",
   "pygments_lexer": "ipython3",
   "version": "3.11.3"
  }
 },
 "nbformat": 4,
 "nbformat_minor": 5
}
