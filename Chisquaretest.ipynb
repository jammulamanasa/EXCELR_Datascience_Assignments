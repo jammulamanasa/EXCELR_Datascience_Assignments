{
 "cells": [
  {
   "cell_type": "code",
   "execution_count": 1,
   "id": "3045808c-1ddc-4a56-928b-809957f5a3f1",
   "metadata": {},
   "outputs": [],
   "source": [
    "import numpy as np\n",
    "import scipy.stats as stats"
   ]
  },
  {
   "cell_type": "code",
   "execution_count": 2,
   "id": "b283a1c0-74dc-40ab-ae19-332bcca4b900",
   "metadata": {},
   "outputs": [],
   "source": [
    "# Contingency table\n",
    "observed = np.array([\n",
    "    [50, 70],  # Very Satisfied\n",
    "    [80, 100],  # Satisfied\n",
    "    [60, 90],   # Neutral\n",
    "    [30, 50],   # Unsatisfied\n",
    "    [20, 50]    # Very Unsatisfied\n",
    "])"
   ]
  },
  {
   "cell_type": "code",
   "execution_count": 3,
   "id": "e6f8d219-afad-48ac-b000-8eaafa3b3892",
   "metadata": {},
   "outputs": [],
   "source": [
    "# 1. Perform the Chi-Square test\n",
    "chi2_stat, p_val, dof, expected = stats.chi2_contingency(observed)"
   ]
  },
  {
   "cell_type": "code",
   "execution_count": 4,
   "id": "711a78a9-91cb-4f21-9425-7dcdf846b95b",
   "metadata": {},
   "outputs": [],
   "source": [
    "# 2. Determine the critical value\n",
    "alpha = 0.05\n",
    "critical_value = stats.chi2.ppf(1 - alpha, dof)"
   ]
  },
  {
   "cell_type": "code",
   "execution_count": 5,
   "id": "7cc8fb11-2d94-4474-811e-30ab52da398f",
   "metadata": {},
   "outputs": [
    {
     "name": "stdout",
     "output_type": "stream",
     "text": [
      "Chi-Square Statistic: 5.638227513227513\n",
      "Degrees of Freedom: 4\n",
      "Critical Value: 9.487729036781154\n",
      "P-Value: 0.22784371130697179\n"
     ]
    }
   ],
   "source": [
    "# 3. Print results\n",
    "print(f\"Chi-Square Statistic: {chi2_stat}\")\n",
    "print(f\"Degrees of Freedom: {dof}\")\n",
    "print(f\"Critical Value: {critical_value}\")\n",
    "print(f\"P-Value: {p_val}\")"
   ]
  },
  {
   "cell_type": "code",
   "execution_count": 6,
   "id": "7cd2f7b5-ea82-4a3a-a9a2-0d96ac74e43b",
   "metadata": {},
   "outputs": [
    {
     "name": "stdout",
     "output_type": "stream",
     "text": [
      "Fail to reject the null hypothesis: There is no significant association between device type and customer satisfaction.\n"
     ]
    }
   ],
   "source": [
    "# 4. Make a decision\n",
    "if chi2_stat > critical_value:\n",
    "    print(\"Reject the null hypothesis: There is a significant association between device type and customer satisfaction.\")\n",
    "else:\n",
    "    print(\"Fail to reject the null hypothesis: There is no significant association between device type and customer satisfaction.\")"
   ]
  }
 ],
 "metadata": {
  "kernelspec": {
   "display_name": "Python 3 (ipykernel)",
   "language": "python",
   "name": "python3"
  },
  "language_info": {
   "codemirror_mode": {
    "name": "ipython",
    "version": 3
   },
   "file_extension": ".py",
   "mimetype": "text/x-python",
   "name": "python",
   "nbconvert_exporter": "python",
   "pygments_lexer": "ipython3",
   "version": "3.11.3"
  }
 },
 "nbformat": 4,
 "nbformat_minor": 5
}
