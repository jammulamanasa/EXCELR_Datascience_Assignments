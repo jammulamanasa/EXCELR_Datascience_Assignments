{
 "cells": [
  {
   "cell_type": "code",
   "execution_count": 22,
   "id": "24dfe3ac-c752-44f1-b313-2f6fd00912cf",
   "metadata": {},
   "outputs": [
    {
     "name": "stdout",
     "output_type": "stream",
     "text": [
      "<class 'pandas.core.frame.DataFrame'>\n",
      "RangeIndex: 12294 entries, 0 to 12293\n",
      "Data columns (total 7 columns):\n",
      " #   Column    Non-Null Count  Dtype  \n",
      "---  ------    --------------  -----  \n",
      " 0   anime_id  12294 non-null  int64  \n",
      " 1   name      12294 non-null  object \n",
      " 2   genre     12232 non-null  object \n",
      " 3   type      12269 non-null  object \n",
      " 4   episodes  12294 non-null  object \n",
      " 5   rating    12064 non-null  float64\n",
      " 6   members   12294 non-null  int64  \n",
      "dtypes: float64(1), int64(2), object(4)\n",
      "memory usage: 672.5+ KB\n",
      "None\n",
      "   anime_id                              name  \\\n",
      "0     32281                    Kimi no Na wa.   \n",
      "1      5114  Fullmetal Alchemist: Brotherhood   \n",
      "2     28977                          Gintama°   \n",
      "3      9253                       Steins;Gate   \n",
      "4      9969                     Gintama&#039;   \n",
      "\n",
      "                                               genre   type episodes  rating  \\\n",
      "0               Drama, Romance, School, Supernatural  Movie        1    9.37   \n",
      "1  Action, Adventure, Drama, Fantasy, Magic, Mili...     TV       64    9.26   \n",
      "2  Action, Comedy, Historical, Parody, Samurai, S...     TV       51    9.25   \n",
      "3                                   Sci-Fi, Thriller     TV       24    9.17   \n",
      "4  Action, Comedy, Historical, Parody, Samurai, S...     TV       51    9.16   \n",
      "\n",
      "   members  \n",
      "0   200630  \n",
      "1   793665  \n",
      "2   114262  \n",
      "3   673572  \n",
      "4   151266  \n"
     ]
    }
   ],
   "source": [
    "import pandas as pd\n",
    "# Loading the dataset\n",
    "data = pd.read_csv('anime.csv')\n",
    "#information about the dataset\n",
    "print(data.info())\n",
    "# Handle missing values\n",
    "data = data.dropna(subset=['name', 'genre', 'rating', 'members'])\n",
    "#dataset\n",
    "print(data.head())"
   ]
  },
  {
   "cell_type": "code",
   "execution_count": 23,
   "id": "1d7b6d36-12c1-4a5d-92a0-fd768436443b",
   "metadata": {},
   "outputs": [
    {
     "name": "stdout",
     "output_type": "stream",
     "text": [
      "     rating    members  Action  Adventure  Cars  Comedy  Dementia  Demons  \\\n",
      "0  2.824474   3.292044     0.0        0.0   0.0     0.0       0.0     0.0   \n",
      "1  2.717032  14.002410     1.0        1.0   0.0     0.0       0.0     0.0   \n",
      "2  2.707265   1.732216     1.0        0.0   0.0     1.0       0.0     0.0   \n",
      "3  2.629126  11.833499     0.0        0.0   0.0     0.0       0.0     0.0   \n",
      "4  2.619358   2.400518     1.0        0.0   0.0     1.0       0.0     0.0   \n",
      "\n",
      "   Drama  Ecchi  ...  Shounen Ai  Slice of Life  Space  Sports  Super Power  \\\n",
      "0    1.0    0.0  ...         0.0            0.0    0.0     0.0          0.0   \n",
      "1    1.0    0.0  ...         0.0            0.0    0.0     0.0          0.0   \n",
      "2    0.0    0.0  ...         0.0            0.0    0.0     0.0          0.0   \n",
      "3    0.0    0.0  ...         0.0            0.0    0.0     0.0          0.0   \n",
      "4    0.0    0.0  ...         0.0            0.0    0.0     0.0          0.0   \n",
      "\n",
      "   Supernatural  Thriller  Vampire  Yaoi  Yuri  \n",
      "0           1.0       0.0      0.0   0.0   0.0  \n",
      "1           0.0       0.0      0.0   0.0   0.0  \n",
      "2           0.0       0.0      0.0   0.0   0.0  \n",
      "3           0.0       1.0      0.0   0.0   0.0  \n",
      "4           0.0       0.0      0.0   0.0   0.0  \n",
      "\n",
      "[5 rows x 45 columns]\n"
     ]
    }
   ],
   "source": [
    "#Feature Extraction\n",
    "from sklearn.preprocessing import MultiLabelBinarizer\n",
    "from sklearn.preprocessing import StandardScaler\n",
    "data['genre'] = data['genre'].apply(lambda x: x.split(', '))\n",
    "mlb = MultiLabelBinarizer()\n",
    "genre_encoded = mlb.fit_transform(data['genre'])\n",
    "genre_df = pd.DataFrame(genre_encoded, columns=mlb.classes_)\n",
    "features = pd.concat([data[['rating', 'members']], genre_df], axis=1)\n",
    "# Normalize numerical features\n",
    "scaler = StandardScaler()\n",
    "features[['rating', 'members']] = scaler.fit_transform(features[['rating', 'members']])\n",
    "\n",
    "print(features.head())"
   ]
  },
  {
   "cell_type": "code",
   "execution_count": 24,
   "id": "609e9a0d-e3f3-438f-acf5-105010cb6982",
   "metadata": {},
   "outputs": [
    {
     "name": "stdout",
     "output_type": "stream",
     "text": [
      "Checking for NaN values in features:\n",
      "rating           267\n",
      "members          267\n",
      "Action           267\n",
      "Adventure        267\n",
      "Cars             267\n",
      "Comedy           267\n",
      "Dementia         267\n",
      "Demons           267\n",
      "Drama            267\n",
      "Ecchi            267\n",
      "Fantasy          267\n",
      "Game             267\n",
      "Harem            267\n",
      "Hentai           267\n",
      "Historical       267\n",
      "Horror           267\n",
      "Josei            267\n",
      "Kids             267\n",
      "Magic            267\n",
      "Martial Arts     267\n",
      "Mecha            267\n",
      "Military         267\n",
      "Music            267\n",
      "Mystery          267\n",
      "Parody           267\n",
      "Police           267\n",
      "Psychological    267\n",
      "Romance          267\n",
      "Samurai          267\n",
      "School           267\n",
      "Sci-Fi           267\n",
      "Seinen           267\n",
      "Shoujo           267\n",
      "Shoujo Ai        267\n",
      "Shounen          267\n",
      "Shounen Ai       267\n",
      "Slice of Life    267\n",
      "Space            267\n",
      "Sports           267\n",
      "Super Power      267\n",
      "Supernatural     267\n",
      "Thriller         267\n",
      "Vampire          267\n",
      "Yaoi             267\n",
      "Yuri             267\n",
      "dtype: int64\n",
      "615    Naruto: Shippuuden\n",
      "582                Bleach\n",
      "86     Shingeki no Kyojin\n",
      "281          Kill la Kill\n",
      "159          Angel Beats!\n",
      "Name: name, dtype: object\n"
     ]
    }
   ],
   "source": [
    "#Recommendation System\n",
    "import pandas as pd\n",
    "from sklearn.preprocessing import MultiLabelBinarizer, StandardScaler\n",
    "from sklearn.metrics.pairwise import cosine_similarity\n",
    "# Create a DataFrame for encoded genres\n",
    "genre_df = pd.DataFrame(genre_encoded, columns=mlb.classes_)\n",
    "# Combine with the original data\n",
    "features = pd.concat([data[['rating', 'members']], genre_df], axis=1)\n",
    "# Check for NaN values in features\n",
    "print(\"Checking for NaN values in features:\")\n",
    "print(features.isnull().sum())\n",
    "features = features.dropna()\n",
    "# Normalize numerical features\n",
    "scaler = StandardScaler()\n",
    "features[['rating', 'members']] = scaler.fit_transform(features[['rating', 'members']])\n",
    "cosine_sim = cosine_similarity(features)\n",
    "\n",
    "def recommend_anime(target_anime, cosine_sim, data, top_n=5):\n",
    "    # Get the index of the target anime\n",
    "    idx = data[data['name'] == target_anime].index\n",
    "    if len(idx) == 0:\n",
    "        print(f\"Anime '{target_anime}' not found in the dataset.\")\n",
    "        return []\n",
    "    idx = idx[0]\n",
    "\n",
    "    # Get the pairwise similarity scores for all anime\n",
    "    sim_scores = list(enumerate(cosine_sim[idx]))\n",
    "    # Sort the anime based on the similarity scores\n",
    "    sim_scores = sorted(sim_scores, key=lambda x: x[1], reverse=True)\n",
    "\n",
    "    # Get the scores of the top_n most similar anime\n",
    "    sim_scores = sim_scores[1:top_n + 1]\n",
    "\n",
    "    # Get the anime indices\n",
    "    anime_indices = [i[0] for i in sim_scores]\n",
    "\n",
    "    # Return the top_n most similar anime\n",
    "    return data['name'].iloc[anime_indices]\n",
    "recommended_anime = recommend_anime('Naruto', cosine_sim, data, top_n=5)\n",
    "print(recommended_anime)\n"
   ]
  },
  {
   "cell_type": "code",
   "execution_count": 25,
   "id": "348188c4-85bf-4c9a-b75e-84b73ff965e0",
   "metadata": {},
   "outputs": [
    {
     "name": "stdout",
     "output_type": "stream",
     "text": [
      "Precision: 0.33, Recall: 1.00, F1 Score: 0.50\n"
     ]
    }
   ],
   "source": [
    "from sklearn.model_selection import train_test_split\n",
    "from sklearn.metrics import precision_score, recall_score, f1_score\n",
    "\n",
    "# Sample true labels (these should be representative of what you expect for evaluation)\n",
    "true_labels = ['One Piece', 'Bleach', 'Death Note']  # Replace with appropriate ground truth values\n",
    "\n",
    "# Get predicted recommendations for a specific anime (ensure it has enough recommendations)\n",
    "predicted_labels = recommend_anime('Naruto', cosine_sim, data, top_n=5).tolist()\n",
    "\n",
    "# To evaluate, we need to align the lengths of true_labels and predicted_labels\n",
    "# If the lengths are inconsistent, you might want to adjust the number of true labels or predicted labels\n",
    "\n",
    "# Example: Ensure true_labels have the same number of elements as predicted_labels\n",
    "# If you have less true labels than predicted, you can either slice predicted_labels or vice versa\n",
    "min_length = min(len(true_labels), len(predicted_labels))\n",
    "true_labels = true_labels[:min_length]\n",
    "predicted_labels = predicted_labels[:min_length]\n",
    "\n",
    "# Assuming the labels are binary (1 for match, 0 for no match)\n",
    "y_true = [1 if label in true_labels else 0 for label in predicted_labels]\n",
    "y_pred = [1] * len(predicted_labels)  # All predicted are considered as positive\n",
    "\n",
    "# Compute evaluation metrics\n",
    "precision = precision_score(y_true, y_pred, average='binary')\n",
    "recall = recall_score(y_true, y_pred, average='binary')\n",
    "f1 = f1_score(y_true, y_pred, average='binary')\n",
    "\n",
    "# Print evaluation metrics\n",
    "print(f'Precision: {precision:.2f}, Recall: {recall:.2f}, F1 Score: {f1:.2f}')\n"
   ]
  },
  {
   "cell_type": "code",
   "execution_count": 28,
   "id": "c9e73882-7edd-49c1-a1ce-8079624d3e3e",
   "metadata": {},
   "outputs": [
    {
     "ename": "SyntaxError",
     "evalue": "invalid decimal literal (818687401.py, line 1)",
     "output_type": "error",
     "traceback": [
      "\u001b[1;36m  Cell \u001b[1;32mIn[28], line 1\u001b[1;36m\u001b[0m\n\u001b[1;33m    1.User-based Collaborative Filtering:Recommends items to users based on the preferences of similar users. It identifies users who are similar to the target user and recommends items they likes\u001b[0m\n\u001b[1;37m     ^\u001b[0m\n\u001b[1;31mSyntaxError\u001b[0m\u001b[1;31m:\u001b[0m invalid decimal literal\n"
     ]
    }
   ],
   "source": [
    "1.User-based Collaborative Filtering:Recommends items to users based on the preferences of similar users. It identifies users who are similar to the target user and recommends items they likes\n",
    "Item-based collaborative Filtering:Recommends items based on the similarity between items. It identifies items that are similar to what the user has liked in the past and suggests thos\n",
    "2.Collaborative Filtering is a technique used in recommendation systems that makes predictions about users interests by collecting preferences from many users\n",
    "It works by analyzing the patterns of users and items, levaraging similarities among users or items to suggest new ones"
   ]
  },
  {
   "cell_type": "code",
   "execution_count": null,
   "id": "badf6094-16ac-45a4-b5dc-90764d42c3da",
   "metadata": {},
   "outputs": [],
   "source": []
  }
 ],
 "metadata": {
  "kernelspec": {
   "display_name": "Python 3 (ipykernel)",
   "language": "python",
   "name": "python3"
  },
  "language_info": {
   "codemirror_mode": {
    "name": "ipython",
    "version": 3
   },
   "file_extension": ".py",
   "mimetype": "text/x-python",
   "name": "python",
   "nbconvert_exporter": "python",
   "pygments_lexer": "ipython3",
   "version": "3.11.3"
  }
 },
 "nbformat": 4,
 "nbformat_minor": 5
}
