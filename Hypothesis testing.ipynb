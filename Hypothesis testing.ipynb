{
 "cells": [
  {
   "cell_type": "code",
   "execution_count": 1,
   "id": "bb7eb253-db07-43a3-83b6-0bb025f74883",
   "metadata": {},
   "outputs": [],
   "source": [
    "import math\n",
    "from scipy.stats import norm"
   ]
  },
  {
   "cell_type": "code",
   "execution_count": 2,
   "id": "070c950a-298c-41d4-8285-fe117dd2cfbd",
   "metadata": {},
   "outputs": [],
   "source": [
    "# Given values\n",
    "sample_mean = 3050  # Rs.\n",
    "theoretical_mean = 4000  # Rs. (calculated as 1000 + 5 * 600)\n",
    "std_dev = 125  # Rs.\n",
    "sample_size = 25\n",
    "alpha = 0.05"
   ]
  },
  {
   "cell_type": "code",
   "execution_count": 3,
   "id": "1b5b1fe3-13be-4660-9a2a-9a31ffc68677",
   "metadata": {},
   "outputs": [],
   "source": [
    "# Step 2: Calculate the Test Statistic\n",
    "standard_error = std_dev / math.sqrt(sample_size)\n",
    "t_statistic = (sample_mean - theoretical_mean) / standard_error"
   ]
  },
  {
   "cell_type": "code",
   "execution_count": 4,
   "id": "28f70afd-921a-41b6-8d95-89aec8180aa3",
   "metadata": {},
   "outputs": [],
   "source": [
    "# Step 3: Determine the Critical Value\n",
    "# Since this is a one-tailed test at alpha = 0.05\n",
    "critical_value = norm.ppf(1 - alpha)"
   ]
  },
  {
   "cell_type": "code",
   "execution_count": 5,
   "id": "c7733205-6a28-4472-b193-e82451edb25f",
   "metadata": {},
   "outputs": [
    {
     "name": "stdout",
     "output_type": "stream",
     "text": [
      "Test Statistic (t): -38.0\n",
      "Critical Value (z): 1.6448536269514722\n"
     ]
    }
   ],
   "source": [
    "# Step 4: Decision\n",
    "print(f\"Test Statistic (t): {t_statistic}\")\n",
    "print(f\"Critical Value (z): {critical_value}\")"
   ]
  },
  {
   "cell_type": "code",
   "execution_count": 6,
   "id": "9e6b2126-9ca8-4e3d-b31a-ec29c70de5f8",
   "metadata": {},
   "outputs": [
    {
     "name": "stdout",
     "output_type": "stream",
     "text": [
      "Fail to reject the null hypothesis: There is insufficient evidence to support that the weekly operating costs are higher than the model suggests.\n"
     ]
    }
   ],
   "source": [
    "if t_statistic > critical_value:\n",
    "    print(\"Reject the null hypothesis: There is strong evidence that the weekly operating costs are higher than the model suggests.\")\n",
    "else:\n",
    "    print(\"Fail to reject the null hypothesis: There is insufficient evidence to support that the weekly operating costs are higher than the model suggests.\")"
   ]
  }
 ],
 "metadata": {
  "kernelspec": {
   "display_name": "Python 3 (ipykernel)",
   "language": "python",
   "name": "python3"
  },
  "language_info": {
   "codemirror_mode": {
    "name": "ipython",
    "version": 3
   },
   "file_extension": ".py",
   "mimetype": "text/x-python",
   "name": "python",
   "nbconvert_exporter": "python",
   "pygments_lexer": "ipython3",
   "version": "3.11.3"
  }
 },
 "nbformat": 4,
 "nbformat_minor": 5
}
